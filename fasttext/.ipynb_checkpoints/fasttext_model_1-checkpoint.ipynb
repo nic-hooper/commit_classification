{
 "cells": [
  {
   "cell_type": "code",
   "execution_count": 1,
   "id": "b4bd340c",
   "metadata": {},
   "outputs": [],
   "source": [
    "import fasttext\n",
    "import pandas as pd\n",
    "import numpy as np\n",
    "from sklearn.metrics import confusion_matrix"
   ]
  },
  {
   "cell_type": "markdown",
   "id": "b00a0729",
   "metadata": {},
   "source": [
    "## Creating and prepping data files\n",
    "Uncomment if files are not in directory"
   ]
  },
  {
   "cell_type": "code",
   "execution_count": 6,
   "id": "0af1aac2",
   "metadata": {},
   "outputs": [],
   "source": [
    "\n",
    "#import the data\n",
    "train_data = pd.read_csv('bert_ft_preproc_train.csv')\n",
    "test_data = pd.read_csv('bert_ft_preproc_test.csv')\n",
    "\n",
    "#append '__label__' to the beginning of each label to format for fasttext\n",
    "train_data.iloc[:,1] = train_data.iloc[:,1].apply(lambda x: '__label__' + str(x).replace(' ','-'))\n",
    "test_data.iloc[:,1] = test_data.iloc[:,1].apply(lambda x: '__label__' + str(x).replace(' ','-'))\n",
    "\n"
   ]
  },
  {
   "cell_type": "code",
   "execution_count": 7,
   "id": "6a3974ab",
   "metadata": {},
   "outputs": [],
   "source": [
    "\n",
    "#saving train data to text file for model training and initial validation\n",
    "\n",
    "train_texts = train_data['Commit message'].tolist()\n",
    "train_labels = train_data['Class'].tolist()\n",
    "prepped_train_data = []\n",
    "for i in range(len(train_texts)):\n",
    "    sample = train_labels[i] + ' ' + train_texts[i] + '\\n'\n",
    "    prepped_train_data.append(sample)\n",
    "    \n",
    "with open('fasttext_train_data.txt','w') as f:\n",
    "    for datapoint in prepped_train_data:\n",
    "        f.write(datapoint)\n",
    "    f.close()\n",
    "\n",
    "#saving test data\n",
    "test_texts = test_data['Commit message'].tolist()\n",
    "test_labels = test_data['Class'].tolist()\n",
    "prepped_test_data = []\n",
    "for i in range(len(test_texts)):\n",
    "    sample = test_labels[i] + ' ' + test_texts[i] + '\\n'\n",
    "    prepped_test_data.append(sample)\n",
    "    \n",
    "with open('fasttext_test_data.txt','w') as f:\n",
    "    for datapoint in prepped_test_data:\n",
    "        f.write(datapoint)\n",
    "    f.close()\n"
   ]
  },
  {
   "cell_type": "markdown",
   "id": "116ae785",
   "metadata": {},
   "source": [
    "## Training the model\n",
    "The train_supervised method trains on 'fasttext_train_data.txt' with hyperparameters optimized on the test data. The dim parameter is set to 100 as hardware limitations appear to prevent anything higher. The loss is set to 'ova' (one-versus-all) as this this is more suited for multi-class problems like this. Finally, we use the pretrained vectors obtained from the corpus creation to help improve the model's accuracy."
   ]
  },
  {
   "cell_type": "code",
   "execution_count": 2,
   "id": "e51ed874",
   "metadata": {
    "scrolled": true
   },
   "outputs": [
    {
     "name": "stderr",
     "output_type": "stream",
     "text": [
      "Warning : loss is manually set to a specific value. It will not be automatically optimized.\n",
      "Warning : wordNgrams is manually set to a specific value. It will not be automatically optimized.\n",
      "Warning : dim is manually set to a specific value. It will not be automatically optimized.\n",
      "Progress: 100.0% Trials:   57 Best score:  0.621379 ETA:   0h 0m 0s\n",
      "Training again with best arguments\n",
      "Read 0M words\n",
      "Number of words:  12345\n",
      "Number of labels: 6\n",
      "Progress: 100.0% words/sec/thread:   80753 lr:  0.000000 avg.loss:  2.190625 ETA:   0h 0m 0s\n"
     ]
    }
   ],
   "source": [
    "model = fasttext.train_supervised(input='fasttext_train_data.txt',\n",
    "                                  dim=100,\n",
    "                                  wordNgrams=2,\n",
    "                                  loss='ova',\n",
    "                                  autotuneValidationFile='fasttext_test_data.txt',\n",
    "                                  pretrainedVectors='fasttext_embeds.vec',\n",
    "                                  thread=6)\n",
    "#autotuneValidationFile='fasttext_test_data.txt'"
   ]
  },
  {
   "cell_type": "code",
   "execution_count": 3,
   "id": "45771188",
   "metadata": {},
   "outputs": [],
   "source": [
    "#model.save_model('/media/sf_VM-ubuntu-shared/fasttext_model.bin')"
   ]
  },
  {
   "cell_type": "markdown",
   "id": "fb71dab7",
   "metadata": {},
   "source": [
    "## Validation"
   ]
  },
  {
   "cell_type": "code",
   "execution_count": 7,
   "id": "f3bc33f6",
   "metadata": {},
   "outputs": [
    {
     "name": "stderr",
     "output_type": "stream",
     "text": [
      "Warning : `load_model` does not return WordVectorModel or SupervisedModel any more, but a `FastText` object which is very similar.\n"
     ]
    }
   ],
   "source": [
    "model = fasttext.load_model('fasttext_model.bin')"
   ]
  },
  {
   "cell_type": "code",
   "execution_count": 4,
   "id": "3d4ea7cd",
   "metadata": {},
   "outputs": [
    {
     "data": {
      "text/plain": [
       "(1001, 0.6123876123876124, 0.6123876123876124)"
      ]
     },
     "execution_count": 4,
     "metadata": {},
     "output_type": "execute_result"
    }
   ],
   "source": [
    "model.test('fasttext_test_data.txt')"
   ]
  },
  {
   "cell_type": "code",
   "execution_count": 25,
   "id": "8a6201c4",
   "metadata": {},
   "outputs": [],
   "source": [
    "y_pred = test_data.iloc[:, 0].apply(lambda x: model.predict(x)[0][0])\n",
    "y_true = test_data.iloc[:, 1]"
   ]
  },
  {
   "cell_type": "code",
   "execution_count": 26,
   "id": "e330b410",
   "metadata": {},
   "outputs": [
    {
     "data": {
      "text/html": [
       "<div>\n",
       "<style scoped>\n",
       "    .dataframe tbody tr th:only-of-type {\n",
       "        vertical-align: middle;\n",
       "    }\n",
       "\n",
       "    .dataframe tbody tr th {\n",
       "        vertical-align: top;\n",
       "    }\n",
       "\n",
       "    .dataframe thead th {\n",
       "        text-align: right;\n",
       "    }\n",
       "</style>\n",
       "<table border=\"1\" class=\"dataframe\">\n",
       "  <thead>\n",
       "    <tr style=\"text-align: right;\">\n",
       "      <th>Predicted</th>\n",
       "      <th>__label__extract</th>\n",
       "      <th>__label__inline</th>\n",
       "      <th>__label__move</th>\n",
       "      <th>__label__pull-up</th>\n",
       "      <th>__label__push-down</th>\n",
       "      <th>__label__rename</th>\n",
       "      <th>All</th>\n",
       "    </tr>\n",
       "    <tr>\n",
       "      <th>Actual</th>\n",
       "      <th></th>\n",
       "      <th></th>\n",
       "      <th></th>\n",
       "      <th></th>\n",
       "      <th></th>\n",
       "      <th></th>\n",
       "      <th></th>\n",
       "    </tr>\n",
       "  </thead>\n",
       "  <tbody>\n",
       "    <tr>\n",
       "      <th>__label__extract</th>\n",
       "      <td>131</td>\n",
       "      <td>8</td>\n",
       "      <td>8</td>\n",
       "      <td>11</td>\n",
       "      <td>9</td>\n",
       "      <td>0</td>\n",
       "      <td>167</td>\n",
       "    </tr>\n",
       "    <tr>\n",
       "      <th>__label__inline</th>\n",
       "      <td>12</td>\n",
       "      <td>68</td>\n",
       "      <td>25</td>\n",
       "      <td>35</td>\n",
       "      <td>23</td>\n",
       "      <td>4</td>\n",
       "      <td>167</td>\n",
       "    </tr>\n",
       "    <tr>\n",
       "      <th>__label__move</th>\n",
       "      <td>12</td>\n",
       "      <td>3</td>\n",
       "      <td>120</td>\n",
       "      <td>20</td>\n",
       "      <td>8</td>\n",
       "      <td>3</td>\n",
       "      <td>166</td>\n",
       "    </tr>\n",
       "    <tr>\n",
       "      <th>__label__pull-up</th>\n",
       "      <td>16</td>\n",
       "      <td>20</td>\n",
       "      <td>31</td>\n",
       "      <td>68</td>\n",
       "      <td>30</td>\n",
       "      <td>2</td>\n",
       "      <td>167</td>\n",
       "    </tr>\n",
       "    <tr>\n",
       "      <th>__label__push-down</th>\n",
       "      <td>12</td>\n",
       "      <td>32</td>\n",
       "      <td>24</td>\n",
       "      <td>33</td>\n",
       "      <td>64</td>\n",
       "      <td>2</td>\n",
       "      <td>167</td>\n",
       "    </tr>\n",
       "    <tr>\n",
       "      <th>__label__rename</th>\n",
       "      <td>1</td>\n",
       "      <td>0</td>\n",
       "      <td>4</td>\n",
       "      <td>0</td>\n",
       "      <td>0</td>\n",
       "      <td>162</td>\n",
       "      <td>167</td>\n",
       "    </tr>\n",
       "    <tr>\n",
       "      <th>All</th>\n",
       "      <td>184</td>\n",
       "      <td>131</td>\n",
       "      <td>212</td>\n",
       "      <td>167</td>\n",
       "      <td>134</td>\n",
       "      <td>173</td>\n",
       "      <td>1001</td>\n",
       "    </tr>\n",
       "  </tbody>\n",
       "</table>\n",
       "</div>"
      ],
      "text/plain": [
       "Predicted           __label__extract  __label__inline  __label__move  \\\n",
       "Actual                                                                 \n",
       "__label__extract                 131                8              8   \n",
       "__label__inline                   12               68             25   \n",
       "__label__move                     12                3            120   \n",
       "__label__pull-up                  16               20             31   \n",
       "__label__push-down                12               32             24   \n",
       "__label__rename                    1                0              4   \n",
       "All                              184              131            212   \n",
       "\n",
       "Predicted           __label__pull-up  __label__push-down  __label__rename  \\\n",
       "Actual                                                                      \n",
       "__label__extract                  11                   9                0   \n",
       "__label__inline                   35                  23                4   \n",
       "__label__move                     20                   8                3   \n",
       "__label__pull-up                  68                  30                2   \n",
       "__label__push-down                33                  64                2   \n",
       "__label__rename                    0                   0              162   \n",
       "All                              167                 134              173   \n",
       "\n",
       "Predicted            All  \n",
       "Actual                    \n",
       "__label__extract     167  \n",
       "__label__inline      167  \n",
       "__label__move        166  \n",
       "__label__pull-up     167  \n",
       "__label__push-down   167  \n",
       "__label__rename      167  \n",
       "All                 1001  "
      ]
     },
     "execution_count": 26,
     "metadata": {},
     "output_type": "execute_result"
    }
   ],
   "source": [
    "confusion_matrix(y_true, y_pred)\n",
    "pd.crosstab(y_true, y_pred, rownames = ['Actual'], colnames =['Predicted'], margins = True)"
   ]
  },
  {
   "cell_type": "code",
   "execution_count": 27,
   "id": "e103132c",
   "metadata": {},
   "outputs": [
    {
     "name": "stdout",
     "output_type": "stream",
     "text": [
      "                    precision    recall  f1-score   support\n",
      "\n",
      "  __label__extract       0.71      0.78      0.75       167\n",
      "   __label__inline       0.52      0.41      0.46       167\n",
      "     __label__move       0.57      0.72      0.63       166\n",
      "  __label__pull-up       0.41      0.41      0.41       167\n",
      "__label__push-down       0.48      0.38      0.43       167\n",
      "   __label__rename       0.94      0.97      0.95       167\n",
      "\n",
      "          accuracy                           0.61      1001\n",
      "         macro avg       0.60      0.61      0.60      1001\n",
      "      weighted avg       0.60      0.61      0.60      1001\n",
      "\n"
     ]
    }
   ],
   "source": [
    "from sklearn.metrics import classification_report\n",
    "print(classification_report(y_true,y_pred))"
   ]
  },
  {
   "cell_type": "code",
   "execution_count": 18,
   "id": "8ea45a05",
   "metadata": {},
   "outputs": [
    {
     "data": {
      "text/html": [
       "<div>\n",
       "<style scoped>\n",
       "    .dataframe tbody tr th:only-of-type {\n",
       "        vertical-align: middle;\n",
       "    }\n",
       "\n",
       "    .dataframe tbody tr th {\n",
       "        vertical-align: top;\n",
       "    }\n",
       "\n",
       "    .dataframe thead th {\n",
       "        text-align: right;\n",
       "    }\n",
       "</style>\n",
       "<table border=\"1\" class=\"dataframe\">\n",
       "  <thead>\n",
       "    <tr style=\"text-align: right;\">\n",
       "      <th></th>\n",
       "      <th>Commit message</th>\n",
       "      <th>Class</th>\n",
       "    </tr>\n",
       "  </thead>\n",
       "  <tbody>\n",
       "    <tr>\n",
       "      <th>0</th>\n",
       "      <td>refactoring xobjectpagetypeprovider remove dep...</td>\n",
       "      <td>__label__inline</td>\n",
       "    </tr>\n",
       "    <tr>\n",
       "      <th>1</th>\n",
       "      <td>java typeres fix pr comments</td>\n",
       "      <td>__label__push-down</td>\n",
       "    </tr>\n",
       "    <tr>\n",
       "      <th>2</th>\n",
       "      <td>move readonly command to clustercommands moved...</td>\n",
       "      <td>__label__push-down</td>\n",
       "    </tr>\n",
       "    <tr>\n",
       "      <th>3</th>\n",
       "      <td>score constructor cleanup</td>\n",
       "      <td>__label__inline</td>\n",
       "    </tr>\n",
       "    <tr>\n",
       "      <th>4</th>\n",
       "      <td>sgf modify the gemfiredatasourcepostprocessor ...</td>\n",
       "      <td>__label__extract</td>\n",
       "    </tr>\n",
       "    <tr>\n",
       "      <th>...</th>\n",
       "      <td>...</td>\n",
       "      <td>...</td>\n",
       "    </tr>\n",
       "    <tr>\n",
       "      <th>996</th>\n",
       "      <td>remove subclasses of vertxhandler and only kee...</td>\n",
       "      <td>__label__pull-up</td>\n",
       "    </tr>\n",
       "    <tr>\n",
       "      <th>997</th>\n",
       "      <td>splitting record scanner rest tests up into di...</td>\n",
       "      <td>__label__extract</td>\n",
       "    </tr>\n",
       "    <tr>\n",
       "      <th>998</th>\n",
       "      <td>fixed layout in gmobjectframe and timelinefram...</td>\n",
       "      <td>__label__extract</td>\n",
       "    </tr>\n",
       "    <tr>\n",
       "      <th>999</th>\n",
       "      <td>rename metrictype to metricattribute this is a...</td>\n",
       "      <td>__label__rename</td>\n",
       "    </tr>\n",
       "    <tr>\n",
       "      <th>1000</th>\n",
       "      <td>refactoring java code generation utils</td>\n",
       "      <td>__label__pull-up</td>\n",
       "    </tr>\n",
       "  </tbody>\n",
       "</table>\n",
       "<p>1001 rows × 2 columns</p>\n",
       "</div>"
      ],
      "text/plain": [
       "                                         Commit message               Class\n",
       "0     refactoring xobjectpagetypeprovider remove dep...     __label__inline\n",
       "1                          java typeres fix pr comments  __label__push-down\n",
       "2     move readonly command to clustercommands moved...  __label__push-down\n",
       "3                             score constructor cleanup     __label__inline\n",
       "4     sgf modify the gemfiredatasourcepostprocessor ...    __label__extract\n",
       "...                                                 ...                 ...\n",
       "996   remove subclasses of vertxhandler and only kee...    __label__pull-up\n",
       "997   splitting record scanner rest tests up into di...    __label__extract\n",
       "998   fixed layout in gmobjectframe and timelinefram...    __label__extract\n",
       "999   rename metrictype to metricattribute this is a...     __label__rename\n",
       "1000             refactoring java code generation utils    __label__pull-up\n",
       "\n",
       "[1001 rows x 2 columns]"
      ]
     },
     "execution_count": 18,
     "metadata": {},
     "output_type": "execute_result"
    }
   ],
   "source": [
    "test_data"
   ]
  },
  {
   "cell_type": "code",
   "execution_count": 33,
   "id": "61142d0d",
   "metadata": {},
   "outputs": [
    {
     "data": {
      "text/plain": [
       "0         __label__pull-up\n",
       "1       __label__push-down\n",
       "2            __label__move\n",
       "3         __label__pull-up\n",
       "4       __label__push-down\n",
       "               ...        \n",
       "996     __label__push-down\n",
       "997        __label__inline\n",
       "998       __label__extract\n",
       "999        __label__rename\n",
       "1000         __label__move\n",
       "Name: Commit message, Length: 1001, dtype: object"
      ]
     },
     "execution_count": 33,
     "metadata": {},
     "output_type": "execute_result"
    }
   ],
   "source": [
    "y_pred"
   ]
  },
  {
   "cell_type": "code",
   "execution_count": 36,
   "id": "8e0e85d4",
   "metadata": {},
   "outputs": [],
   "source": [
    "pred = pd.DataFrame(y_pred)\n",
    "pred.rename(columns={'Commit message':'predicted'}, inplace=True)"
   ]
  },
  {
   "cell_type": "code",
   "execution_count": 38,
   "id": "bdb11a3e",
   "metadata": {},
   "outputs": [],
   "source": [
    "val = pd.concat([test_data,pred], axis=1)"
   ]
  },
  {
   "cell_type": "code",
   "execution_count": 39,
   "id": "8b0c1f29",
   "metadata": {},
   "outputs": [],
   "source": [
    "val['Class'] = val['Class'].apply(lambda x: x[9:])\n",
    "val['predicted'] = val['predicted'].apply(lambda x: x[9:])"
   ]
  },
  {
   "cell_type": "code",
   "execution_count": 40,
   "id": "90d6ecdf",
   "metadata": {},
   "outputs": [
    {
     "data": {
      "text/html": [
       "<div>\n",
       "<style scoped>\n",
       "    .dataframe tbody tr th:only-of-type {\n",
       "        vertical-align: middle;\n",
       "    }\n",
       "\n",
       "    .dataframe tbody tr th {\n",
       "        vertical-align: top;\n",
       "    }\n",
       "\n",
       "    .dataframe thead th {\n",
       "        text-align: right;\n",
       "    }\n",
       "</style>\n",
       "<table border=\"1\" class=\"dataframe\">\n",
       "  <thead>\n",
       "    <tr style=\"text-align: right;\">\n",
       "      <th></th>\n",
       "      <th>Commit message</th>\n",
       "      <th>Class</th>\n",
       "      <th>predicted</th>\n",
       "    </tr>\n",
       "  </thead>\n",
       "  <tbody>\n",
       "    <tr>\n",
       "      <th>0</th>\n",
       "      <td>refactoring xobjectpagetypeprovider remove dep...</td>\n",
       "      <td>inline</td>\n",
       "      <td>pull-up</td>\n",
       "    </tr>\n",
       "    <tr>\n",
       "      <th>1</th>\n",
       "      <td>java typeres fix pr comments</td>\n",
       "      <td>push-down</td>\n",
       "      <td>push-down</td>\n",
       "    </tr>\n",
       "    <tr>\n",
       "      <th>2</th>\n",
       "      <td>move readonly command to clustercommands moved...</td>\n",
       "      <td>push-down</td>\n",
       "      <td>move</td>\n",
       "    </tr>\n",
       "    <tr>\n",
       "      <th>3</th>\n",
       "      <td>score constructor cleanup</td>\n",
       "      <td>inline</td>\n",
       "      <td>pull-up</td>\n",
       "    </tr>\n",
       "    <tr>\n",
       "      <th>4</th>\n",
       "      <td>sgf modify the gemfiredatasourcepostprocessor ...</td>\n",
       "      <td>extract</td>\n",
       "      <td>push-down</td>\n",
       "    </tr>\n",
       "  </tbody>\n",
       "</table>\n",
       "</div>"
      ],
      "text/plain": [
       "                                      Commit message      Class  predicted\n",
       "0  refactoring xobjectpagetypeprovider remove dep...     inline    pull-up\n",
       "1                       java typeres fix pr comments  push-down  push-down\n",
       "2  move readonly command to clustercommands moved...  push-down       move\n",
       "3                          score constructor cleanup     inline    pull-up\n",
       "4  sgf modify the gemfiredatasourcepostprocessor ...    extract  push-down"
      ]
     },
     "execution_count": 40,
     "metadata": {},
     "output_type": "execute_result"
    }
   ],
   "source": [
    "val.head()"
   ]
  },
  {
   "cell_type": "code",
   "execution_count": 41,
   "id": "08a2b722",
   "metadata": {},
   "outputs": [],
   "source": [
    "val.to_csv('fasttext_validation_report.csv', index=False)"
   ]
  }
 ],
 "metadata": {
  "kernelspec": {
   "display_name": "Python 3 (ipykernel)",
   "language": "python",
   "name": "python3"
  },
  "language_info": {
   "codemirror_mode": {
    "name": "ipython",
    "version": 3
   },
   "file_extension": ".py",
   "mimetype": "text/x-python",
   "name": "python",
   "nbconvert_exporter": "python",
   "pygments_lexer": "ipython3",
   "version": "3.11.0"
  }
 },
 "nbformat": 4,
 "nbformat_minor": 5
}
