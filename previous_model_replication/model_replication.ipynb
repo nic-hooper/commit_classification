{
 "cells": [
  {
   "cell_type": "code",
   "execution_count": 5,
   "id": "6e69dbc8",
   "metadata": {},
   "outputs": [],
   "source": [
    "import pandas as pd\n",
    "import numpy as np\n",
    "from sklearn.model_selection import train_test_split\n",
    "from sklearn.feature_extraction.text import TfidfVectorizer\n",
    "import gensim\n",
    "from gensim.models import Word2Vec\n",
    "from sklearn.pipeline import Pipeline\n",
    "from sklearn.metrics import classification_report, confusion_matrix\n",
    "from sklearn.model_selection import cross_val_score\n",
    "from sklearn.model_selection import StratifiedKFold\n",
    "from sklearn.pipeline import Pipeline\n",
    "\n",
    "from sklearn.linear_model import LogisticRegression"
   ]
  },
  {
   "cell_type": "code",
   "execution_count": 3,
   "id": "cd4776eb",
   "metadata": {},
   "outputs": [],
   "source": [
    "df = pd.read_csv('preprocessed.csv')\n",
    "commits = df['Commit message']\n",
    "ref_type = df['Class']"
   ]
  },
  {
   "cell_type": "markdown",
   "id": "258df9c2",
   "metadata": {},
   "source": [
    "## scikit-learn Replication of Previous Study's Classification with Logistic Regression "
   ]
  },
  {
   "cell_type": "code",
   "execution_count": 7,
   "id": "0d7f55a6",
   "metadata": {},
   "outputs": [],
   "source": [
    "# sklearn pipeline with Tf-Idf vectorization and Logistic Regression classifier\n",
    "pipeline = Pipeline([\n",
    "    ('tfidf', TfidfVectorizer(ngram_range=(1,2))),\n",
    "    ('clf', LogisticRegression(multi_class='ovr'))\n",
    "])"
   ]
  },
  {
   "cell_type": "code",
   "execution_count": 8,
   "id": "00250b8f",
   "metadata": {},
   "outputs": [],
   "source": [
    "X,y = commits,ref_type\n",
    "skf = StratifiedKFold(n_splits=10, shuffle=True)\n",
    "report_list = list()\n",
    "for train_index, test_index in skf.split(X,y):\n",
    "    x_train_fold, x_test_fold = X[train_index], X[test_index]\n",
    "    y_train_fold, y_test_fold = y[train_index], y[test_index]\n",
    "    pipeline.fit(x_train_fold, y_train_fold)\n",
    "    y_pred = pipeline.predict(x_test_fold)\n",
    "    report = classification_report(y_test_fold, y_pred, output_dict=True)\n",
    "    report_list.append(pd.DataFrame(report).transpose())\n",
    "    #print(report)"
   ]
  },
  {
   "cell_type": "code",
   "execution_count": 9,
   "id": "ebdb1eaf",
   "metadata": {},
   "outputs": [
    {
     "data": {
      "text/html": [
       "<div>\n",
       "<style scoped>\n",
       "    .dataframe tbody tr th:only-of-type {\n",
       "        vertical-align: middle;\n",
       "    }\n",
       "\n",
       "    .dataframe tbody tr th {\n",
       "        vertical-align: top;\n",
       "    }\n",
       "\n",
       "    .dataframe thead th {\n",
       "        text-align: right;\n",
       "    }\n",
       "</style>\n",
       "<table border=\"1\" class=\"dataframe\">\n",
       "  <thead>\n",
       "    <tr style=\"text-align: right;\">\n",
       "      <th></th>\n",
       "      <th>precision</th>\n",
       "      <th>recall</th>\n",
       "      <th>f1-score</th>\n",
       "      <th>support</th>\n",
       "    </tr>\n",
       "  </thead>\n",
       "  <tbody>\n",
       "    <tr>\n",
       "      <th>extract</th>\n",
       "      <td>0.641274</td>\n",
       "      <td>0.682143</td>\n",
       "      <td>0.659832</td>\n",
       "      <td>83.4</td>\n",
       "    </tr>\n",
       "    <tr>\n",
       "      <th>inline</th>\n",
       "      <td>0.488306</td>\n",
       "      <td>0.501119</td>\n",
       "      <td>0.493682</td>\n",
       "      <td>83.4</td>\n",
       "    </tr>\n",
       "    <tr>\n",
       "      <th>move</th>\n",
       "      <td>0.587190</td>\n",
       "      <td>0.708649</td>\n",
       "      <td>0.641557</td>\n",
       "      <td>83.4</td>\n",
       "    </tr>\n",
       "    <tr>\n",
       "      <th>pull up</th>\n",
       "      <td>0.430316</td>\n",
       "      <td>0.402912</td>\n",
       "      <td>0.414974</td>\n",
       "      <td>83.4</td>\n",
       "    </tr>\n",
       "    <tr>\n",
       "      <th>push down</th>\n",
       "      <td>0.478898</td>\n",
       "      <td>0.366767</td>\n",
       "      <td>0.415008</td>\n",
       "      <td>83.4</td>\n",
       "    </tr>\n",
       "    <tr>\n",
       "      <th>rename</th>\n",
       "      <td>0.929049</td>\n",
       "      <td>0.912507</td>\n",
       "      <td>0.920150</td>\n",
       "      <td>83.4</td>\n",
       "    </tr>\n",
       "  </tbody>\n",
       "</table>\n",
       "</div>"
      ],
      "text/plain": [
       "           precision    recall  f1-score  support\n",
       "extract     0.641274  0.682143  0.659832     83.4\n",
       "inline      0.488306  0.501119  0.493682     83.4\n",
       "move        0.587190  0.708649  0.641557     83.4\n",
       "pull up     0.430316  0.402912  0.414974     83.4\n",
       "push down   0.478898  0.366767  0.415008     83.4\n",
       "rename      0.929049  0.912507  0.920150     83.4"
      ]
     },
     "execution_count": 9,
     "metadata": {},
     "output_type": "execute_result"
    }
   ],
   "source": [
    "total = report_list[0].stack()\n",
    "for i in range(1, 10):\n",
    "    total = total.add(report_list[i].stack())\n",
    "\n",
    "avgs = total / 10\n",
    "avgs.unstack()[:6]"
   ]
  },
  {
   "cell_type": "markdown",
   "id": "a5f030ba",
   "metadata": {},
   "source": [
    "## Tf-Idf and Logistic Regression Classifier with main train/test split"
   ]
  },
  {
   "cell_type": "code",
   "execution_count": 20,
   "id": "2e1b8d42",
   "metadata": {},
   "outputs": [],
   "source": [
    "train_data = pd.read_csv('replication_preproc_train.csv')\n",
    "test_data = pd.read_csv('replication_preproc_test.csv')"
   ]
  },
  {
   "cell_type": "code",
   "execution_count": 21,
   "id": "d2a357ea",
   "metadata": {},
   "outputs": [],
   "source": [
    "X_train = train_data['Commit message'].tolist()\n",
    "y_train = train_data['Class'].tolist()\n",
    "X_test = test_data['Commit message'].tolist()\n",
    "y_test = test_data['Class'].tolist()"
   ]
  },
  {
   "cell_type": "code",
   "execution_count": 22,
   "id": "2920d9ed",
   "metadata": {},
   "outputs": [
    {
     "name": "stdout",
     "output_type": "stream",
     "text": [
      "              precision    recall  f1-score   support\n",
      "\n",
      "     extract       0.64      0.73      0.68       167\n",
      "      inline       0.48      0.50      0.49       167\n",
      "        move       0.61      0.73      0.66       166\n",
      "     pull up       0.50      0.46      0.48       167\n",
      "   push down       0.50      0.36      0.42       167\n",
      "      rename       0.94      0.92      0.93       167\n",
      "\n",
      "    accuracy                           0.62      1001\n",
      "   macro avg       0.61      0.62      0.61      1001\n",
      "weighted avg       0.61      0.62      0.61      1001\n",
      "\n"
     ]
    }
   ],
   "source": [
    "pipeline.fit(X_train, y_train)\n",
    "y_pred = pipeline.predict(X_test)\n",
    "report = classification_report(y_test, y_pred)\n",
    "print(report)"
   ]
  },
  {
   "cell_type": "code",
   "execution_count": 23,
   "id": "0cf7dd3b",
   "metadata": {},
   "outputs": [
    {
     "data": {
      "text/html": [
       "<div>\n",
       "<style scoped>\n",
       "    .dataframe tbody tr th:only-of-type {\n",
       "        vertical-align: middle;\n",
       "    }\n",
       "\n",
       "    .dataframe tbody tr th {\n",
       "        vertical-align: top;\n",
       "    }\n",
       "\n",
       "    .dataframe thead th {\n",
       "        text-align: right;\n",
       "    }\n",
       "</style>\n",
       "<table border=\"1\" class=\"dataframe\">\n",
       "  <thead>\n",
       "    <tr style=\"text-align: right;\">\n",
       "      <th>Predicted</th>\n",
       "      <th>extract</th>\n",
       "      <th>inline</th>\n",
       "      <th>move</th>\n",
       "      <th>pull up</th>\n",
       "      <th>push down</th>\n",
       "      <th>rename</th>\n",
       "      <th>All</th>\n",
       "    </tr>\n",
       "    <tr>\n",
       "      <th>Actual</th>\n",
       "      <th></th>\n",
       "      <th></th>\n",
       "      <th></th>\n",
       "      <th></th>\n",
       "      <th></th>\n",
       "      <th></th>\n",
       "      <th></th>\n",
       "    </tr>\n",
       "  </thead>\n",
       "  <tbody>\n",
       "    <tr>\n",
       "      <th>extract</th>\n",
       "      <td>122</td>\n",
       "      <td>12</td>\n",
       "      <td>4</td>\n",
       "      <td>18</td>\n",
       "      <td>11</td>\n",
       "      <td>0</td>\n",
       "      <td>167</td>\n",
       "    </tr>\n",
       "    <tr>\n",
       "      <th>inline</th>\n",
       "      <td>16</td>\n",
       "      <td>83</td>\n",
       "      <td>20</td>\n",
       "      <td>23</td>\n",
       "      <td>22</td>\n",
       "      <td>3</td>\n",
       "      <td>167</td>\n",
       "    </tr>\n",
       "    <tr>\n",
       "      <th>move</th>\n",
       "      <td>17</td>\n",
       "      <td>7</td>\n",
       "      <td>121</td>\n",
       "      <td>11</td>\n",
       "      <td>7</td>\n",
       "      <td>3</td>\n",
       "      <td>166</td>\n",
       "    </tr>\n",
       "    <tr>\n",
       "      <th>pull up</th>\n",
       "      <td>16</td>\n",
       "      <td>24</td>\n",
       "      <td>30</td>\n",
       "      <td>76</td>\n",
       "      <td>20</td>\n",
       "      <td>1</td>\n",
       "      <td>167</td>\n",
       "    </tr>\n",
       "    <tr>\n",
       "      <th>push down</th>\n",
       "      <td>17</td>\n",
       "      <td>43</td>\n",
       "      <td>20</td>\n",
       "      <td>24</td>\n",
       "      <td>60</td>\n",
       "      <td>3</td>\n",
       "      <td>167</td>\n",
       "    </tr>\n",
       "    <tr>\n",
       "      <th>rename</th>\n",
       "      <td>4</td>\n",
       "      <td>5</td>\n",
       "      <td>4</td>\n",
       "      <td>0</td>\n",
       "      <td>0</td>\n",
       "      <td>154</td>\n",
       "      <td>167</td>\n",
       "    </tr>\n",
       "    <tr>\n",
       "      <th>All</th>\n",
       "      <td>192</td>\n",
       "      <td>174</td>\n",
       "      <td>199</td>\n",
       "      <td>152</td>\n",
       "      <td>120</td>\n",
       "      <td>164</td>\n",
       "      <td>1001</td>\n",
       "    </tr>\n",
       "  </tbody>\n",
       "</table>\n",
       "</div>"
      ],
      "text/plain": [
       "Predicted  extract  inline  move  pull up  push down  rename   All\n",
       "Actual                                                            \n",
       "extract        122      12     4       18         11       0   167\n",
       "inline          16      83    20       23         22       3   167\n",
       "move            17       7   121       11          7       3   166\n",
       "pull up         16      24    30       76         20       1   167\n",
       "push down       17      43    20       24         60       3   167\n",
       "rename           4       5     4        0          0     154   167\n",
       "All            192     174   199      152        120     164  1001"
      ]
     },
     "execution_count": 23,
     "metadata": {},
     "output_type": "execute_result"
    }
   ],
   "source": [
    "confusion_matrix(y_test,y_pred)\n",
    "pd.crosstab(y_test, y_pred, rownames = ['Actual'], colnames =['Predicted'], margins = True)"
   ]
  },
  {
   "cell_type": "code",
   "execution_count": 28,
   "id": "dd80aff8",
   "metadata": {},
   "outputs": [],
   "source": [
    "pred = pd.DataFrame(y_pred, columns = ['predicted'])\n",
    "model_eval = pd.concat([test_data,pred], axis=1)"
   ]
  },
  {
   "cell_type": "code",
   "execution_count": 29,
   "id": "3b250aa9",
   "metadata": {},
   "outputs": [],
   "source": [
    "# model_eval.to_csv('replication_evaluation_report.csv',index=False)"
   ]
  },
  {
   "cell_type": "code",
   "execution_count": null,
   "id": "6f40c604",
   "metadata": {},
   "outputs": [],
   "source": []
  }
 ],
 "metadata": {
  "kernelspec": {
   "display_name": "Python 3 (ipykernel)",
   "language": "python",
   "name": "python3"
  },
  "language_info": {
   "codemirror_mode": {
    "name": "ipython",
    "version": 3
   },
   "file_extension": ".py",
   "mimetype": "text/x-python",
   "name": "python",
   "nbconvert_exporter": "python",
   "pygments_lexer": "ipython3",
   "version": "3.11.0"
  }
 },
 "nbformat": 4,
 "nbformat_minor": 5
}
