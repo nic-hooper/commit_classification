{
 "cells": [
  {
   "cell_type": "code",
   "execution_count": 1,
   "id": "ff706095-4d13-404e-83bd-72af0e4767bf",
   "metadata": {},
   "outputs": [],
   "source": [
    "# !pip install fasttext"
   ]
  },
  {
   "cell_type": "code",
   "execution_count": 1,
   "id": "ed38aa13-b262-4217-b415-d3a4a7935c60",
   "metadata": {},
   "outputs": [],
   "source": [
    "import pandas as pd\n",
    "from sklearn.model_selection import train_test_split"
   ]
  },
  {
   "cell_type": "code",
   "execution_count": 2,
   "id": "4fe66935-2cb3-47af-8391-01b171d0b5bf",
   "metadata": {},
   "outputs": [],
   "source": [
    "data = pd.read_csv('preprocessed.csv')"
   ]
  },
  {
   "cell_type": "code",
   "execution_count": 3,
   "id": "8448d399-b561-4a4c-8647-bbd7014c36b2",
   "metadata": {},
   "outputs": [
    {
     "data": {
      "text/html": [
       "<div>\n",
       "<style scoped>\n",
       "    .dataframe tbody tr th:only-of-type {\n",
       "        vertical-align: middle;\n",
       "    }\n",
       "\n",
       "    .dataframe tbody tr th {\n",
       "        vertical-align: top;\n",
       "    }\n",
       "\n",
       "    .dataframe thead th {\n",
       "        text-align: right;\n",
       "    }\n",
       "</style>\n",
       "<table border=\"1\" class=\"dataframe\">\n",
       "  <thead>\n",
       "    <tr style=\"text-align: right;\">\n",
       "      <th></th>\n",
       "      <th>Unnamed: 0</th>\n",
       "      <th>Commit message</th>\n",
       "      <th>Class</th>\n",
       "    </tr>\n",
       "  </thead>\n",
       "  <tbody>\n",
       "    <tr>\n",
       "      <th>0</th>\n",
       "      <td>0</td>\n",
       "      <td>extract method</td>\n",
       "      <td>extract</td>\n",
       "    </tr>\n",
       "    <tr>\n",
       "      <th>1</th>\n",
       "      <td>1</td>\n",
       "      <td>minor tweak follow review extraction method pl...</td>\n",
       "      <td>extract</td>\n",
       "    </tr>\n",
       "    <tr>\n",
       "      <th>2</th>\n",
       "      <td>2</td>\n",
       "      <td>extract stuff method git p depot path coremedi...</td>\n",
       "      <td>extract</td>\n",
       "    </tr>\n",
       "    <tr>\n",
       "      <th>3</th>\n",
       "      <td>3</td>\n",
       "      <td>extract method doiserviceimpl</td>\n",
       "      <td>extract</td>\n",
       "    </tr>\n",
       "    <tr>\n",
       "      <th>4</th>\n",
       "      <td>4</td>\n",
       "      <td>refactoring getmenuspace navigation extract is...</td>\n",
       "      <td>extract</td>\n",
       "    </tr>\n",
       "  </tbody>\n",
       "</table>\n",
       "</div>"
      ],
      "text/plain": [
       "   Unnamed: 0                                     Commit message    Class\n",
       "0           0                                     extract method  extract\n",
       "1           1  minor tweak follow review extraction method pl...  extract\n",
       "2           2  extract stuff method git p depot path coremedi...  extract\n",
       "3           3                      extract method doiserviceimpl  extract\n",
       "4           4  refactoring getmenuspace navigation extract is...  extract"
      ]
     },
     "execution_count": 3,
     "metadata": {},
     "output_type": "execute_result"
    }
   ],
   "source": [
    "data.head()"
   ]
  },
  {
   "cell_type": "code",
   "execution_count": 4,
   "id": "43f3d3cf-b01c-43ec-91bc-8a65cfe9151d",
   "metadata": {},
   "outputs": [],
   "source": [
    "data.drop(columns=['Unnamed: 0'], inplace=True)"
   ]
  },
  {
   "cell_type": "code",
   "execution_count": 5,
   "id": "0b7e6b68-910b-444a-90f3-5e2c8b6615f8",
   "metadata": {},
   "outputs": [],
   "source": [
    "X = data['Commit message']\n",
    "y = data['Class']\n",
    "X_train, X_test, y_train, y_test = train_test_split(X, y, test_size=0.2, random_state=42, shuffle=True)"
   ]
  },
  {
   "cell_type": "code",
   "execution_count": 6,
   "id": "e78da5ee-b9da-4692-9a69-6bae75712614",
   "metadata": {},
   "outputs": [],
   "source": [
    "# Create train and test files in fasttext input format.\n",
    "all_texts = X_train.tolist()\n",
    "all_labels = y_train.tolist()\n",
    "prep_datapoints=[]\n",
    "for i in range(len(all_texts)):\n",
    "    sample = all_texts[i] + ' ' + '__label__'+ all_labels[i].replace(' ', '-') + '\\n'\n",
    "    prep_datapoints.append(sample)"
   ]
  },
  {
   "cell_type": "code",
   "execution_count": 7,
   "id": "f8152e28-73db-4a84-bdb1-5646693d7424",
   "metadata": {},
   "outputs": [],
   "source": [
    "with open('train_fasttext.txt','w') as f:\n",
    "    for datapoint in prep_datapoints:\n",
    "        f.write(datapoint)\n",
    "        # f.write('n')\n",
    "    f.close()"
   ]
  },
  {
   "cell_type": "code",
   "execution_count": 8,
   "id": "b54422aa-c644-493b-b36b-aa429cc7fc0d",
   "metadata": {},
   "outputs": [],
   "source": [
    "all_texts = X_test.tolist()\n",
    "all_labels = y_test.tolist()\n",
    "prep_datapoints=[]\n",
    "for i in range(len(all_texts)):\n",
    "    sample = all_texts[i] + ' ' + '__label__'+ all_labels[i].replace(' ', '-') + '\\n'\n",
    "    prep_datapoints.append(sample)"
   ]
  },
  {
   "cell_type": "code",
   "execution_count": 9,
   "id": "1cbf62c4-1611-440b-9ae7-1b4f58110dd7",
   "metadata": {},
   "outputs": [],
   "source": [
    "with open('test_fasttext.txt','w') as f:\n",
    "    for datapoint in prep_datapoints:\n",
    "        f.write(datapoint)\n",
    "        # f.write('n')\n",
    "    f.close()"
   ]
  },
  {
   "cell_type": "code",
   "execution_count": 10,
   "id": "faad3081-b960-4abc-a088-22ec8b2ff128",
   "metadata": {},
   "outputs": [],
   "source": [
    "import fasttext"
   ]
  },
  {
   "cell_type": "code",
   "execution_count": 11,
   "id": "331c2ac7-8842-43ad-87c3-610616593a9d",
   "metadata": {},
   "outputs": [
    {
     "name": "stderr",
     "output_type": "stream",
     "text": [
      "Read 0M words\n",
      "Number of words:  10912\n",
      "Number of labels: 6\n",
      "Progress: 100.0% words/sec/thread:  656608 lr:  0.000000 avg.loss:  0.832718 ETA:   0h 0m 0s\n"
     ]
    }
   ],
   "source": [
    "model = fasttext.train_supervised(input='train_fasttext.txt', lr=1)"
   ]
  },
  {
   "cell_type": "code",
   "execution_count": 12,
   "id": "42bb2962-428c-4406-95dc-5a1546d3c2b3",
   "metadata": {},
   "outputs": [
    {
     "data": {
      "text/plain": [
       "{'__label__rename': {'precision': 0.9621542940320232,\n",
       "  'recall': 0.9880418535127056,\n",
       "  'f1score': 0.9749262536873157},\n",
       " '__label__move': {'precision': 0.9012738853503185,\n",
       "  'recall': 0.8562783661119516,\n",
       "  'f1score': 0.878200155159038},\n",
       " '__label__push-down': {'precision': 0.8704268292682927,\n",
       "  'recall': 0.8522388059701492,\n",
       "  'f1score': 0.861236802413273},\n",
       " '__label__extract': {'precision': 0.8995502248875562,\n",
       "  'recall': 0.9302325581395349,\n",
       "  'f1score': 0.9146341463414634},\n",
       " '__label__pull-up': {'precision': 0.803894297635605,\n",
       "  'recall': 0.8512518409425626,\n",
       "  'f1score': 0.82689556509299},\n",
       " '__label__inline': {'precision': 0.8854489164086687,\n",
       "  'recall': 0.8424153166421208,\n",
       "  'f1score': 0.8633962264150944}}"
      ]
     },
     "execution_count": 12,
     "metadata": {},
     "output_type": "execute_result"
    }
   ],
   "source": [
    "model.test_label('train_fasttext.txt', k=1)"
   ]
  },
  {
   "cell_type": "code",
   "execution_count": 13,
   "id": "ba044016-b0ba-4060-8f6e-57289a96740a",
   "metadata": {},
   "outputs": [
    {
     "data": {
      "text/plain": [
       "(4003, 0.8863352485635774, 0.8863352485635774)"
      ]
     },
     "execution_count": 13,
     "metadata": {},
     "output_type": "execute_result"
    }
   ],
   "source": [
    " model.test('train_fasttext.txt')"
   ]
  },
  {
   "cell_type": "code",
   "execution_count": null,
   "id": "f0b9be32-7196-4a26-a03b-d3aefd57330e",
   "metadata": {},
   "outputs": [],
   "source": []
  }
 ],
 "metadata": {
  "kernelspec": {
   "display_name": "Python [conda env:saxena] *",
   "language": "python",
   "name": "conda-env-saxena-py"
  },
  "language_info": {
   "codemirror_mode": {
    "name": "ipython",
    "version": 3
   },
   "file_extension": ".py",
   "mimetype": "text/x-python",
   "name": "python",
   "nbconvert_exporter": "python",
   "pygments_lexer": "ipython3",
   "version": "3.10.8"
  }
 },
 "nbformat": 4,
 "nbformat_minor": 5
}
